{
  "nbformat": 4,
  "nbformat_minor": 0,
  "metadata": {
    "colab": {
      "provenance": [],
      "authorship_tag": "ABX9TyMHM7iirY70SkTXUyhEjXrD",
      "include_colab_link": true
    },
    "kernelspec": {
      "name": "python3",
      "display_name": "Python 3"
    },
    "language_info": {
      "name": "python"
    }
  },
  "cells": [
    {
      "cell_type": "markdown",
      "metadata": {
        "id": "view-in-github",
        "colab_type": "text"
      },
      "source": [
        "<a href=\"https://colab.research.google.com/github/pranavsrinivas29/Pyspark/blob/main/Pyspark4.ipynb\" target=\"_parent\"><img src=\"https://colab.research.google.com/assets/colab-badge.svg\" alt=\"Open In Colab\"/></a>"
      ]
    },
    {
      "cell_type": "markdown",
      "source": [
        "## Filters\n"
      ],
      "metadata": {
        "id": "OlkL4v0kcl2a"
      }
    },
    {
      "cell_type": "code",
      "execution_count": 1,
      "metadata": {
        "colab": {
          "base_uri": "https://localhost:8080/"
        },
        "id": "blT0LW2rb8nB",
        "outputId": "a05c3914-2390-4573-92d9-8d5117ad7bfe"
      },
      "outputs": [
        {
          "output_type": "stream",
          "name": "stdout",
          "text": [
            "Collecting pyspark\n",
            "  Downloading pyspark-3.5.0.tar.gz (316.9 MB)\n",
            "\u001b[2K     \u001b[90m━━━━━━━━━━━━━━━━━━━━━━━━━━━━━━━━━━━━━━━━\u001b[0m \u001b[32m316.9/316.9 MB\u001b[0m \u001b[31m2.7 MB/s\u001b[0m eta \u001b[36m0:00:00\u001b[0m\n",
            "\u001b[?25h  Preparing metadata (setup.py) ... \u001b[?25l\u001b[?25hdone\n",
            "Requirement already satisfied: py4j==0.10.9.7 in /usr/local/lib/python3.10/dist-packages (from pyspark) (0.10.9.7)\n",
            "Building wheels for collected packages: pyspark\n",
            "  Building wheel for pyspark (setup.py) ... \u001b[?25l\u001b[?25hdone\n",
            "  Created wheel for pyspark: filename=pyspark-3.5.0-py2.py3-none-any.whl size=317425345 sha256=8c69ede37da13050cdf12ff1a9972568b90accd169e99c9542a5a651b4ef075b\n",
            "  Stored in directory: /root/.cache/pip/wheels/41/4e/10/c2cf2467f71c678cfc8a6b9ac9241e5e44a01940da8fbb17fc\n",
            "Successfully built pyspark\n",
            "Installing collected packages: pyspark\n",
            "Successfully installed pyspark-3.5.0\n"
          ]
        }
      ],
      "source": [
        "!pip install pyspark\n"
      ]
    },
    {
      "cell_type": "code",
      "source": [
        "from google.colab import drive\n",
        "drive.mount('/content/drive')\n",
        "from pyspark.sql import SparkSession\n",
        "spark = SparkSession.builder.appName('DataFrame').getOrCreate()\n",
        "df_pyspark = spark.read.option('header','true').csv('/content/drive/MyDrive/Book1.csv',sep=';',inferSchema=True)\n",
        "df_pyspark.show()\n",
        ""
      ],
      "metadata": {
        "colab": {
          "base_uri": "https://localhost:8080/"
        },
        "id": "qn5TgVr3dDiq",
        "outputId": "b7694235-052d-4be8-8055-fcf1df5de146"
      },
      "execution_count": 3,
      "outputs": [
        {
          "output_type": "stream",
          "name": "stdout",
          "text": [
            "Mounted at /content/drive\n",
            "+------+---+------+----------+\n",
            "|  Name|Age|Salary|Experience|\n",
            "+------+---+------+----------+\n",
            "|  John| 23| 34000|         8|\n",
            "| Smith| 21| 56000|         5|\n",
            "| Steve| 43| 45000|         2|\n",
            "|  Mark| 25| 23990|        10|\n",
            "| Starc| 35| 45000|         6|\n",
            "|  Jade| 34| 23000|         2|\n",
            "|Austin| 34| 12000|         5|\n",
            "+------+---+------+----------+\n",
            "\n"
          ]
        }
      ]
    },
    {
      "cell_type": "code",
      "source": [
        "df_pyspark.filter('Salary<=30000').show()"
      ],
      "metadata": {
        "colab": {
          "base_uri": "https://localhost:8080/"
        },
        "id": "J5YbpPkQfA4-",
        "outputId": "97aab174-5e44-439e-e7b9-ba246d35ab43"
      },
      "execution_count": 5,
      "outputs": [
        {
          "output_type": "stream",
          "name": "stdout",
          "text": [
            "+------+---+------+----------+\n",
            "|  Name|Age|Salary|Experience|\n",
            "+------+---+------+----------+\n",
            "|  Mark| 25| 23990|        10|\n",
            "|  Jade| 34| 23000|         2|\n",
            "|Austin| 34| 12000|         5|\n",
            "+------+---+------+----------+\n",
            "\n"
          ]
        }
      ]
    },
    {
      "cell_type": "code",
      "source": [
        "df_pyspark.filter('Salary<=30000').select(['Name','Experience']).show()"
      ],
      "metadata": {
        "colab": {
          "base_uri": "https://localhost:8080/"
        },
        "id": "dBeDqrejhSOo",
        "outputId": "57c49f41-4176-4d48-a3c7-1ea57a58cbbb"
      },
      "execution_count": 7,
      "outputs": [
        {
          "output_type": "stream",
          "name": "stdout",
          "text": [
            "+------+----------+\n",
            "|  Name|Experience|\n",
            "+------+----------+\n",
            "|  Mark|        10|\n",
            "|  Jade|         2|\n",
            "|Austin|         5|\n",
            "+------+----------+\n",
            "\n"
          ]
        }
      ]
    },
    {
      "cell_type": "markdown",
      "source": [
        "## Multiple condition"
      ],
      "metadata": {
        "id": "SVDCZRuDh1KL"
      }
    },
    {
      "cell_type": "markdown",
      "source": [
        "##using AND(&)"
      ],
      "metadata": {
        "id": "KNPhlOoolYTK"
      }
    },
    {
      "cell_type": "code",
      "source": [
        "df_pyspark.filter((df_pyspark['Salary']<=30000)\n",
        "                  & (df_pyspark['Age']>=30)).show()"
      ],
      "metadata": {
        "colab": {
          "base_uri": "https://localhost:8080/"
        },
        "id": "BQR2LPpBh4bG",
        "outputId": "20501996-7fff-4796-9fd9-981e64673392"
      },
      "execution_count": 12,
      "outputs": [
        {
          "output_type": "stream",
          "name": "stdout",
          "text": [
            "+------+---+------+----------+\n",
            "|  Name|Age|Salary|Experience|\n",
            "+------+---+------+----------+\n",
            "|  Jade| 34| 23000|         2|\n",
            "|Austin| 34| 12000|         5|\n",
            "+------+---+------+----------+\n",
            "\n"
          ]
        }
      ]
    },
    {
      "cell_type": "markdown",
      "source": [
        "##using OR(|)"
      ],
      "metadata": {
        "id": "WicN7P6SlUb8"
      }
    },
    {
      "cell_type": "code",
      "source": [
        "df_pyspark.filter((df_pyspark['Salary']<=30000)\n",
        "                  | (df_pyspark['Experience']<8)).show()"
      ],
      "metadata": {
        "colab": {
          "base_uri": "https://localhost:8080/"
        },
        "id": "08HdMKVzkD4x",
        "outputId": "b3c40613-39c5-4e3d-ca44-58d330c9da4c"
      },
      "execution_count": 14,
      "outputs": [
        {
          "output_type": "stream",
          "name": "stdout",
          "text": [
            "+------+---+------+----------+\n",
            "|  Name|Age|Salary|Experience|\n",
            "+------+---+------+----------+\n",
            "| Smith| 21| 56000|         5|\n",
            "| Steve| 43| 45000|         2|\n",
            "|  Mark| 25| 23990|        10|\n",
            "| Starc| 35| 45000|         6|\n",
            "|  Jade| 34| 23000|         2|\n",
            "|Austin| 34| 12000|         5|\n",
            "+------+---+------+----------+\n",
            "\n"
          ]
        }
      ]
    },
    {
      "cell_type": "markdown",
      "source": [
        "## ~ is for inverse"
      ],
      "metadata": {
        "id": "XbYnSHtqlPYX"
      }
    },
    {
      "cell_type": "code",
      "source": [
        "df_pyspark.filter(~((df_pyspark['Salary']<=30000)\n",
        "                  & (df_pyspark['Age']>=30))).show()"
      ],
      "metadata": {
        "colab": {
          "base_uri": "https://localhost:8080/"
        },
        "id": "QDtFmsVwk-ic",
        "outputId": "b72fc927-adea-45ed-bc9d-974924d93f91"
      },
      "execution_count": 17,
      "outputs": [
        {
          "output_type": "stream",
          "name": "stdout",
          "text": [
            "+-----+---+------+----------+\n",
            "| Name|Age|Salary|Experience|\n",
            "+-----+---+------+----------+\n",
            "| John| 23| 34000|         8|\n",
            "|Smith| 21| 56000|         5|\n",
            "|Steve| 43| 45000|         2|\n",
            "| Mark| 25| 23990|        10|\n",
            "|Starc| 35| 45000|         6|\n",
            "+-----+---+------+----------+\n",
            "\n"
          ]
        }
      ]
    }
  ]
}