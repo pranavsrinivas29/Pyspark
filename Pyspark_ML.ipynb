{
  "nbformat": 4,
  "nbformat_minor": 0,
  "metadata": {
    "colab": {
      "provenance": [],
      "authorship_tag": "ABX9TyOzGkxNSFNDFc98Aycnx2+9",
      "include_colab_link": true
    },
    "kernelspec": {
      "name": "python3",
      "display_name": "Python 3"
    },
    "language_info": {
      "name": "python"
    }
  },
  "cells": [
    {
      "cell_type": "markdown",
      "metadata": {
        "id": "view-in-github",
        "colab_type": "text"
      },
      "source": [
        "<a href=\"https://colab.research.google.com/github/pranavsrinivas29/Pyspark/blob/main/Pyspark_ML.ipynb\" target=\"_parent\"><img src=\"https://colab.research.google.com/assets/colab-badge.svg\" alt=\"Open In Colab\"/></a>"
      ]
    },
    {
      "cell_type": "code",
      "execution_count": 1,
      "metadata": {
        "colab": {
          "base_uri": "https://localhost:8080/"
        },
        "id": "sSV4HkHHScry",
        "outputId": "2a56a2fd-b6a1-4ace-e2d3-300c4e585ac1"
      },
      "outputs": [
        {
          "output_type": "stream",
          "name": "stdout",
          "text": [
            "Collecting pyspark\n",
            "  Downloading pyspark-3.5.0.tar.gz (316.9 MB)\n",
            "\u001b[2K     \u001b[90m━━━━━━━━━━━━━━━━━━━━━━━━━━━━━━━━━━━━━━━━\u001b[0m \u001b[32m316.9/316.9 MB\u001b[0m \u001b[31m2.2 MB/s\u001b[0m eta \u001b[36m0:00:00\u001b[0m\n",
            "\u001b[?25h  Preparing metadata (setup.py) ... \u001b[?25l\u001b[?25hdone\n",
            "Requirement already satisfied: py4j==0.10.9.7 in /usr/local/lib/python3.10/dist-packages (from pyspark) (0.10.9.7)\n",
            "Building wheels for collected packages: pyspark\n",
            "  Building wheel for pyspark (setup.py) ... \u001b[?25l\u001b[?25hdone\n",
            "  Created wheel for pyspark: filename=pyspark-3.5.0-py2.py3-none-any.whl size=317425345 sha256=68f857aa9ff5fb5e88f9b9f3a551a0b008e54374278af4cf2c07ab7766fee2aa\n",
            "  Stored in directory: /root/.cache/pip/wheels/41/4e/10/c2cf2467f71c678cfc8a6b9ac9241e5e44a01940da8fbb17fc\n",
            "Successfully built pyspark\n",
            "Installing collected packages: pyspark\n",
            "Successfully installed pyspark-3.5.0\n"
          ]
        }
      ],
      "source": [
        "!pip install pyspark\n"
      ]
    },
    {
      "cell_type": "code",
      "source": [
        "from google.colab import drive\n",
        "drive.mount('/content/drive')\n",
        "\n",
        "from pyspark.sql import SparkSession\n",
        "spark=SparkSession.builder.appName('Grouping').getOrCreate()"
      ],
      "metadata": {
        "colab": {
          "base_uri": "https://localhost:8080/"
        },
        "id": "rwJgeE5RSjsQ",
        "outputId": "d917e21a-2314-4f95-9b69-b0e352826af3"
      },
      "execution_count": 2,
      "outputs": [
        {
          "output_type": "stream",
          "name": "stdout",
          "text": [
            "Mounted at /content/drive\n"
          ]
        }
      ]
    },
    {
      "cell_type": "code",
      "source": [
        "df_pyspark = spark.read.option('header','true').csv('/content/drive/MyDrive/Book1.csv',sep=';',inferSchema=True)\n",
        "df_pyspark.show()"
      ],
      "metadata": {
        "colab": {
          "base_uri": "https://localhost:8080/"
        },
        "id": "biKkIIqbSmKW",
        "outputId": "39120c31-0db7-4f54-c0a9-d260d104129f"
      },
      "execution_count": 3,
      "outputs": [
        {
          "output_type": "stream",
          "name": "stdout",
          "text": [
            "+------+---+------+----------+\n",
            "|  Name|Age|Salary|Experience|\n",
            "+------+---+------+----------+\n",
            "|  John| 23| 34000|         8|\n",
            "| Smith| 21| 56000|         5|\n",
            "| Steve| 43| 45000|         2|\n",
            "|  Mark| 25| 23990|        10|\n",
            "| Starc| 35| 45000|         6|\n",
            "|  Jade| 34| 23000|         2|\n",
            "|Austin| 34| 12000|         5|\n",
            "+------+---+------+----------+\n",
            "\n"
          ]
        }
      ]
    },
    {
      "cell_type": "code",
      "source": [
        "df_pyspark.columns"
      ],
      "metadata": {
        "colab": {
          "base_uri": "https://localhost:8080/"
        },
        "id": "0ip1GHJRTBcU",
        "outputId": "a070c313-ad40-4d9d-d471-d283ed433eaf"
      },
      "execution_count": 4,
      "outputs": [
        {
          "output_type": "execute_result",
          "data": {
            "text/plain": [
              "['Name', 'Age', 'Salary', 'Experience']"
            ]
          },
          "metadata": {},
          "execution_count": 4
        }
      ]
    },
    {
      "cell_type": "code",
      "source": [
        "from pyspark.ml.feature import VectorAssembler\n",
        "feature = VectorAssembler(inputCols=['Age','Experience'],outputCol='Independent Feature')\n"
      ],
      "metadata": {
        "id": "Q6jVSXuxTPLl"
      },
      "execution_count": 10,
      "outputs": []
    },
    {
      "cell_type": "code",
      "source": [
        "output=feature.transform(df_pyspark)"
      ],
      "metadata": {
        "id": "m589BGtMUZ_9"
      },
      "execution_count": 11,
      "outputs": []
    },
    {
      "cell_type": "code",
      "source": [
        "output.show()"
      ],
      "metadata": {
        "colab": {
          "base_uri": "https://localhost:8080/"
        },
        "id": "Oj0kqKsCUi6R",
        "outputId": "a36ecbaf-f2da-4a92-f84a-fd4be4dd47eb"
      },
      "execution_count": 12,
      "outputs": [
        {
          "output_type": "stream",
          "name": "stdout",
          "text": [
            "+------+---+------+----------+-------------------+\n",
            "|  Name|Age|Salary|Experience|Independent Feature|\n",
            "+------+---+------+----------+-------------------+\n",
            "|  John| 23| 34000|         8|         [23.0,8.0]|\n",
            "| Smith| 21| 56000|         5|         [21.0,5.0]|\n",
            "| Steve| 43| 45000|         2|         [43.0,2.0]|\n",
            "|  Mark| 25| 23990|        10|        [25.0,10.0]|\n",
            "| Starc| 35| 45000|         6|         [35.0,6.0]|\n",
            "|  Jade| 34| 23000|         2|         [34.0,2.0]|\n",
            "|Austin| 34| 12000|         5|         [34.0,5.0]|\n",
            "+------+---+------+----------+-------------------+\n",
            "\n"
          ]
        }
      ]
    },
    {
      "cell_type": "code",
      "source": [
        "dependent_feature=output.select(\"Independent Feature\",\"Salary\")"
      ],
      "metadata": {
        "id": "2nzD768WVIWM"
      },
      "execution_count": 13,
      "outputs": []
    },
    {
      "cell_type": "code",
      "source": [
        "dependent_feature.show()"
      ],
      "metadata": {
        "colab": {
          "base_uri": "https://localhost:8080/"
        },
        "id": "vSjYtCMPVSlO",
        "outputId": "c8753ba3-3f44-41c2-efd6-fb5f25c5a9d5"
      },
      "execution_count": 14,
      "outputs": [
        {
          "output_type": "stream",
          "name": "stdout",
          "text": [
            "+-------------------+------+\n",
            "|Independent Feature|Salary|\n",
            "+-------------------+------+\n",
            "|         [23.0,8.0]| 34000|\n",
            "|         [21.0,5.0]| 56000|\n",
            "|         [43.0,2.0]| 45000|\n",
            "|        [25.0,10.0]| 23990|\n",
            "|         [35.0,6.0]| 45000|\n",
            "|         [34.0,2.0]| 23000|\n",
            "|         [34.0,5.0]| 12000|\n",
            "+-------------------+------+\n",
            "\n"
          ]
        }
      ]
    },
    {
      "cell_type": "code",
      "source": [
        "from pyspark.ml.regression import LinearRegression\n",
        "train_data,test_data=dependent_feature.randomSplit([0.60,0.40])\n",
        "reg=LinearRegression(featuresCol=\"Independent Feature\",labelCol=\"Salary\")\n",
        "reg=reg.fit(train_data)"
      ],
      "metadata": {
        "id": "_zqEohMpV129"
      },
      "execution_count": 31,
      "outputs": []
    },
    {
      "cell_type": "code",
      "source": [
        "reg.coefficients"
      ],
      "metadata": {
        "colab": {
          "base_uri": "https://localhost:8080/"
        },
        "id": "Mm_RsDPlW4Yq",
        "outputId": "75eec0eb-3552-47eb-a160-cd2da0dad609"
      },
      "execution_count": 32,
      "outputs": [
        {
          "output_type": "execute_result",
          "data": {
            "text/plain": [
              "DenseVector([-1159.581, -4615.219])"
            ]
          },
          "metadata": {},
          "execution_count": 32
        }
      ]
    },
    {
      "cell_type": "code",
      "source": [
        "reg.intercept"
      ],
      "metadata": {
        "colab": {
          "base_uri": "https://localhost:8080/"
        },
        "id": "Muv-89LZXm6G",
        "outputId": "2017737e-a376-466d-aab1-e6ce052be898"
      },
      "execution_count": 33,
      "outputs": [
        {
          "output_type": "execute_result",
          "data": {
            "text/plain": [
              "98885.98719103452"
            ]
          },
          "metadata": {},
          "execution_count": 33
        }
      ]
    },
    {
      "cell_type": "code",
      "source": [
        "pred_res=reg.evaluate(test_data)\n"
      ],
      "metadata": {
        "id": "1EjBDzD_W8AI"
      },
      "execution_count": 34,
      "outputs": []
    },
    {
      "cell_type": "code",
      "source": [
        "test_data.show()"
      ],
      "metadata": {
        "colab": {
          "base_uri": "https://localhost:8080/"
        },
        "id": "hC90zIikbG6Z",
        "outputId": "dd3baa94-9335-401a-dffd-bd2c6cb37317"
      },
      "execution_count": 38,
      "outputs": [
        {
          "output_type": "stream",
          "name": "stdout",
          "text": [
            "+-------------------+------+\n",
            "|Independent Feature|Salary|\n",
            "+-------------------+------+\n",
            "|         [23.0,8.0]| 34000|\n",
            "|         [34.0,2.0]| 23000|\n",
            "+-------------------+------+\n",
            "\n"
          ]
        }
      ]
    },
    {
      "cell_type": "code",
      "source": [
        "pred_res.predictions.show()"
      ],
      "metadata": {
        "colab": {
          "base_uri": "https://localhost:8080/"
        },
        "id": "yj4Zwpx7ajOu",
        "outputId": "27b9207c-7eb7-4992-e173-8a9909609496"
      },
      "execution_count": 36,
      "outputs": [
        {
          "output_type": "stream",
          "name": "stdout",
          "text": [
            "+-------------------+------+-----------------+\n",
            "|Independent Feature|Salary|       prediction|\n",
            "+-------------------+------+-----------------+\n",
            "|         [23.0,8.0]| 34000|35293.87137663034|\n",
            "|         [34.0,2.0]| 23000|50229.79385569915|\n",
            "+-------------------+------+-----------------+\n",
            "\n"
          ]
        }
      ]
    }
  ]
}