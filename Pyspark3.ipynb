{
  "nbformat": 4,
  "nbformat_minor": 0,
  "metadata": {
    "colab": {
      "provenance": [],
      "authorship_tag": "ABX9TyPpJtJsjmtMqFHE1Za2iIoX",
      "include_colab_link": true
    },
    "kernelspec": {
      "name": "python3",
      "display_name": "Python 3"
    },
    "language_info": {
      "name": "python"
    }
  },
  "cells": [
    {
      "cell_type": "markdown",
      "metadata": {
        "id": "view-in-github",
        "colab_type": "text"
      },
      "source": [
        "<a href=\"https://colab.research.google.com/github/pranavsrinivas29/Pyspark/blob/main/Pyspark3.ipynb\" target=\"_parent\"><img src=\"https://colab.research.google.com/assets/colab-badge.svg\" alt=\"Open In Colab\"/></a>"
      ]
    },
    {
      "cell_type": "markdown",
      "source": [
        "# Handling Missing Values"
      ],
      "metadata": {
        "id": "6LWgOi_M7vZX"
      }
    },
    {
      "cell_type": "code",
      "source": [
        "!pip install pyspark"
      ],
      "metadata": {
        "colab": {
          "base_uri": "https://localhost:8080/"
        },
        "id": "1X8kHwHJ8eRX",
        "outputId": "7de20233-5d8a-4e8d-f96c-9d1e4cfbaaae"
      },
      "execution_count": 1,
      "outputs": [
        {
          "output_type": "stream",
          "name": "stdout",
          "text": [
            "Collecting pyspark\n",
            "  Downloading pyspark-3.5.0.tar.gz (316.9 MB)\n",
            "\u001b[2K     \u001b[90m━━━━━━━━━━━━━━━━━━━━━━━━━━━━━━━━━━━━━━━━\u001b[0m \u001b[32m316.9/316.9 MB\u001b[0m \u001b[31m3.9 MB/s\u001b[0m eta \u001b[36m0:00:00\u001b[0m\n",
            "\u001b[?25h  Preparing metadata (setup.py) ... \u001b[?25l\u001b[?25hdone\n",
            "Requirement already satisfied: py4j==0.10.9.7 in /usr/local/lib/python3.10/dist-packages (from pyspark) (0.10.9.7)\n",
            "Building wheels for collected packages: pyspark\n",
            "  Building wheel for pyspark (setup.py) ... \u001b[?25l\u001b[?25hdone\n",
            "  Created wheel for pyspark: filename=pyspark-3.5.0-py2.py3-none-any.whl size=317425345 sha256=551eafcd4c7625d0821997dd7a3dcdcd740bbfc776f63c5e81e3a64d3c251b9e\n",
            "  Stored in directory: /root/.cache/pip/wheels/41/4e/10/c2cf2467f71c678cfc8a6b9ac9241e5e44a01940da8fbb17fc\n",
            "Successfully built pyspark\n",
            "Installing collected packages: pyspark\n",
            "Successfully installed pyspark-3.5.0\n"
          ]
        }
      ]
    },
    {
      "cell_type": "code",
      "execution_count": 2,
      "metadata": {
        "colab": {
          "base_uri": "https://localhost:8080/"
        },
        "id": "cybCjnF37oGv",
        "outputId": "5d6ae6ae-c450-4b28-d68d-57a7020b9d73"
      },
      "outputs": [
        {
          "output_type": "stream",
          "name": "stdout",
          "text": [
            "Mounted at /content/drive\n"
          ]
        }
      ],
      "source": [
        "from google.colab import drive\n",
        "drive.mount('/content/drive')"
      ]
    },
    {
      "cell_type": "code",
      "source": [
        "from pyspark.sql import SparkSession\n",
        "spark = SparkSession.builder.appName('DataFrame').getOrCreate()\n",
        "df_pyspark = spark.read.option('header','true').csv('/content/drive/MyDrive/Book1.csv',sep=';',inferSchema=True)"
      ],
      "metadata": {
        "id": "5fNGrmjBA4En"
      },
      "execution_count": 22,
      "outputs": []
    },
    {
      "cell_type": "code",
      "source": [
        "df_pyspark.show()"
      ],
      "metadata": {
        "colab": {
          "base_uri": "https://localhost:8080/"
        },
        "id": "iVqH6H_xBm0G",
        "outputId": "a9464a08-344f-495e-9dce-77ee8f5f9a91"
      },
      "execution_count": 23,
      "outputs": [
        {
          "output_type": "stream",
          "name": "stdout",
          "text": [
            "+------+----+------+----------+\n",
            "|  Name| Age|Salary|Experience|\n",
            "+------+----+------+----------+\n",
            "|  John|  23| 34000|         8|\n",
            "| Smith|  21| 56000|      NULL|\n",
            "| Steve|  43|  NULL|         2|\n",
            "|  Mark|  25| 23990|      NULL|\n",
            "| Starc|NULL| 45000|         6|\n",
            "|  NULL|  34|  NULL|         2|\n",
            "|Austin|  34| 12000|      NULL|\n",
            "+------+----+------+----------+\n",
            "\n"
          ]
        }
      ]
    },
    {
      "cell_type": "markdown",
      "source": [
        "## Dropping the cols"
      ],
      "metadata": {
        "id": "GDyG26T7CaFF"
      }
    },
    {
      "cell_type": "code",
      "source": [
        "df_pyspark.drop('Age').show()"
      ],
      "metadata": {
        "colab": {
          "base_uri": "https://localhost:8080/"
        },
        "id": "5Ble-Fo5B446",
        "outputId": "b83ca51a-f8d1-44bf-b72a-947aecd15e6a"
      },
      "execution_count": 24,
      "outputs": [
        {
          "output_type": "stream",
          "name": "stdout",
          "text": [
            "+------+------+----------+\n",
            "|  Name|Salary|Experience|\n",
            "+------+------+----------+\n",
            "|  John| 34000|         8|\n",
            "| Smith| 56000|      NULL|\n",
            "| Steve|  NULL|         2|\n",
            "|  Mark| 23990|      NULL|\n",
            "| Starc| 45000|         6|\n",
            "|  NULL|  NULL|         2|\n",
            "|Austin| 12000|      NULL|\n",
            "+------+------+----------+\n",
            "\n"
          ]
        }
      ]
    },
    {
      "cell_type": "code",
      "source": [
        "df_pyspark.na.drop().show()"
      ],
      "metadata": {
        "colab": {
          "base_uri": "https://localhost:8080/"
        },
        "id": "k32NLyzrB420",
        "outputId": "c92586f2-58d5-4fb4-da94-5b4290b8bfa5"
      },
      "execution_count": 25,
      "outputs": [
        {
          "output_type": "stream",
          "name": "stdout",
          "text": [
            "+----+---+------+----------+\n",
            "|Name|Age|Salary|Experience|\n",
            "+----+---+------+----------+\n",
            "|John| 23| 34000|         8|\n",
            "+----+---+------+----------+\n",
            "\n"
          ]
        }
      ]
    },
    {
      "cell_type": "code",
      "source": [
        "#Can use all if all values in row in null and want to drop it\n",
        "df_pyspark.na.drop(how=\"any\").show()"
      ],
      "metadata": {
        "colab": {
          "base_uri": "https://localhost:8080/"
        },
        "id": "ueE4h_UCFp7U",
        "outputId": "fb152fbd-83ff-421c-c447-cc3fa555ed85"
      },
      "execution_count": 26,
      "outputs": [
        {
          "output_type": "stream",
          "name": "stdout",
          "text": [
            "+----+---+------+----------+\n",
            "|Name|Age|Salary|Experience|\n",
            "+----+---+------+----------+\n",
            "|John| 23| 34000|         8|\n",
            "+----+---+------+----------+\n",
            "\n"
          ]
        }
      ]
    },
    {
      "cell_type": "code",
      "source": [
        "#shud hav atleast 2 non null values\n",
        "df_pyspark.na.drop(how=\"any\",thresh=2).show()"
      ],
      "metadata": {
        "colab": {
          "base_uri": "https://localhost:8080/"
        },
        "id": "tLkAtHDjGBRq",
        "outputId": "1633b411-8e90-493a-b7ef-ac8474f8cab1"
      },
      "execution_count": 29,
      "outputs": [
        {
          "output_type": "stream",
          "name": "stdout",
          "text": [
            "+------+----+------+----------+\n",
            "|  Name| Age|Salary|Experience|\n",
            "+------+----+------+----------+\n",
            "|  John|  23| 34000|         8|\n",
            "| Smith|  21| 56000|      NULL|\n",
            "| Steve|  43|  NULL|         2|\n",
            "|  Mark|  25| 23990|      NULL|\n",
            "| Starc|NULL| 45000|         6|\n",
            "|  NULL|  34|  NULL|         2|\n",
            "|Austin|  34| 12000|      NULL|\n",
            "+------+----+------+----------+\n",
            "\n"
          ]
        }
      ]
    },
    {
      "cell_type": "code",
      "source": [
        "#drops null considering only experience\n",
        "df_pyspark.na.drop(how=\"any\",subset=['Experience']).show()"
      ],
      "metadata": {
        "colab": {
          "base_uri": "https://localhost:8080/"
        },
        "id": "cyoB8x4OGwVU",
        "outputId": "d5aa8d6c-ef33-4176-94ee-a1569e88fb37"
      },
      "execution_count": 30,
      "outputs": [
        {
          "output_type": "stream",
          "name": "stdout",
          "text": [
            "+-----+----+------+----------+\n",
            "| Name| Age|Salary|Experience|\n",
            "+-----+----+------+----------+\n",
            "| John|  23| 34000|         8|\n",
            "|Steve|  43|  NULL|         2|\n",
            "|Starc|NULL| 45000|         6|\n",
            "| NULL|  34|  NULL|         2|\n",
            "+-----+----+------+----------+\n",
            "\n"
          ]
        }
      ]
    },
    {
      "cell_type": "markdown",
      "source": [
        "## Filling Values"
      ],
      "metadata": {
        "id": "3sa5BibeIM0S"
      }
    },
    {
      "cell_type": "code",
      "source": [
        "df_pyspark.na.fill('Missing Values').show()"
      ],
      "metadata": {
        "colab": {
          "base_uri": "https://localhost:8080/"
        },
        "id": "4bWCxGfXIBON",
        "outputId": "32a49477-f339-4ab8-910b-75aebc0bfdfe"
      },
      "execution_count": 38,
      "outputs": [
        {
          "output_type": "stream",
          "name": "stdout",
          "text": [
            "+--------------+----+------+----------+\n",
            "|          Name| Age|Salary|Experience|\n",
            "+--------------+----+------+----------+\n",
            "|          John|  23| 34000|         8|\n",
            "|         Smith|  21| 56000|      NULL|\n",
            "|         Steve|  43|  NULL|         2|\n",
            "|          Mark|  25| 23990|      NULL|\n",
            "|         Starc|NULL| 45000|         6|\n",
            "|Missing Values|  34|  NULL|         2|\n",
            "|        Austin|  34| 12000|      NULL|\n",
            "+--------------+----+------+----------+\n",
            "\n"
          ]
        }
      ]
    },
    {
      "cell_type": "markdown",
      "source": [
        "## Imputing Values"
      ],
      "metadata": {
        "id": "so0I1QP_KyYW"
      }
    },
    {
      "cell_type": "code",
      "source": [
        "from pyspark.ml.feature import Imputer\n",
        "imputer=Imputer(\n",
        "    inputCols=['Age','Salary','Experience'],\n",
        "    outputCols=[\"{}_mean_imputed\".format(c) for c in ['Age','Salary','Experience']]\n",
        ").setStrategy(\"mean\")"
      ],
      "metadata": {
        "id": "-vbOtW35Iya-"
      },
      "execution_count": 46,
      "outputs": []
    },
    {
      "cell_type": "code",
      "source": [
        "imputer.fit(df_pyspark).transform(df_pyspark).show()"
      ],
      "metadata": {
        "colab": {
          "base_uri": "https://localhost:8080/"
        },
        "id": "k0BmhuseIyYd",
        "outputId": "1181be52-c744-45a3-d0b4-24a41c31394b"
      },
      "execution_count": 47,
      "outputs": [
        {
          "output_type": "stream",
          "name": "stdout",
          "text": [
            "+------+----+------+----------+----------------+-------------------+-----------------------+\n",
            "|  Name| Age|Salary|Experience|Age_mean_imputed|Salary_mean_imputed|Experience_mean_imputed|\n",
            "+------+----+------+----------+----------------+-------------------+-----------------------+\n",
            "|  John|  23| 34000|         8|              23|              34000|                      8|\n",
            "| Smith|  21| 56000|      NULL|              21|              56000|                      4|\n",
            "| Steve|  43|  NULL|         2|              43|              34198|                      2|\n",
            "|  Mark|  25| 23990|      NULL|              25|              23990|                      4|\n",
            "| Starc|NULL| 45000|         6|              30|              45000|                      6|\n",
            "|  NULL|  34|  NULL|         2|              34|              34198|                      2|\n",
            "|Austin|  34| 12000|      NULL|              34|              12000|                      4|\n",
            "+------+----+------+----------+----------------+-------------------+-----------------------+\n",
            "\n"
          ]
        }
      ]
    },
    {
      "cell_type": "code",
      "source": [
        "from pyspark.ml.feature import Imputer\n",
        "imputer=Imputer(\n",
        "    inputCols=['Age','Salary','Experience'],\n",
        "    outputCols=[\"{}_median_imputed\".format(c) for c in ['Age','Salary','Experience']]\n",
        ").setStrategy(\"median\")\n",
        "\n",
        "imputer.fit(df_pyspark).transform(df_pyspark).show()"
      ],
      "metadata": {
        "colab": {
          "base_uri": "https://localhost:8080/"
        },
        "id": "oryVrByaIyV-",
        "outputId": "a794605a-5a19-4051-821e-2571fcc22c9c"
      },
      "execution_count": 48,
      "outputs": [
        {
          "output_type": "stream",
          "name": "stdout",
          "text": [
            "+------+----+------+----------+------------------+---------------------+-------------------------+\n",
            "|  Name| Age|Salary|Experience|Age_median_imputed|Salary_median_imputed|Experience_median_imputed|\n",
            "+------+----+------+----------+------------------+---------------------+-------------------------+\n",
            "|  John|  23| 34000|         8|                23|                34000|                        8|\n",
            "| Smith|  21| 56000|      NULL|                21|                56000|                        2|\n",
            "| Steve|  43|  NULL|         2|                43|                34000|                        2|\n",
            "|  Mark|  25| 23990|      NULL|                25|                23990|                        2|\n",
            "| Starc|NULL| 45000|         6|                25|                45000|                        6|\n",
            "|  NULL|  34|  NULL|         2|                34|                34000|                        2|\n",
            "|Austin|  34| 12000|      NULL|                34|                12000|                        2|\n",
            "+------+----+------+----------+------------------+---------------------+-------------------------+\n",
            "\n"
          ]
        }
      ]
    },
    {
      "cell_type": "code",
      "source": [],
      "metadata": {
        "id": "xL2Jk2uwIyTg"
      },
      "execution_count": null,
      "outputs": []
    },
    {
      "cell_type": "code",
      "source": [],
      "metadata": {
        "id": "p09RrsbVIyQ2"
      },
      "execution_count": null,
      "outputs": []
    },
    {
      "cell_type": "code",
      "source": [],
      "metadata": {
        "id": "iiShgyynIyE-"
      },
      "execution_count": null,
      "outputs": []
    },
    {
      "cell_type": "code",
      "source": [],
      "metadata": {
        "id": "xRPgGNGCIyCj"
      },
      "execution_count": null,
      "outputs": []
    }
  ]
}