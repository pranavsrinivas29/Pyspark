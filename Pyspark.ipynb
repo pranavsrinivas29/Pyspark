{
  "nbformat": 4,
  "nbformat_minor": 0,
  "metadata": {
    "colab": {
      "provenance": [],
      "mount_file_id": "1Q23X7vm91MhpOTlHOzW8Q_Bln-Zm4G8x",
      "authorship_tag": "ABX9TyNrVdj8vZNVTlrHk03kYvU2",
      "include_colab_link": true
    },
    "kernelspec": {
      "name": "python3",
      "display_name": "Python 3"
    },
    "language_info": {
      "name": "python"
    }
  },
  "cells": [
    {
      "cell_type": "markdown",
      "metadata": {
        "id": "view-in-github",
        "colab_type": "text"
      },
      "source": [
        "<a href=\"https://colab.research.google.com/github/pranavsrinivas29/Pyspark/blob/main/Pyspark.ipynb\" target=\"_parent\"><img src=\"https://colab.research.google.com/assets/colab-badge.svg\" alt=\"Open In Colab\"/></a>"
      ]
    },
    {
      "cell_type": "markdown",
      "source": [
        "##Installation of PySpark and Loading of Data Frame"
      ],
      "metadata": {
        "id": "HxmfNmckQLBx"
      }
    },
    {
      "cell_type": "code",
      "execution_count": 1,
      "metadata": {
        "colab": {
          "base_uri": "https://localhost:8080/"
        },
        "id": "hGVnqSyh-PME",
        "outputId": "77b81922-dd86-486c-c3cd-f48072266d92"
      },
      "outputs": [
        {
          "output_type": "stream",
          "name": "stdout",
          "text": [
            "Collecting pyspark\n",
            "  Downloading pyspark-3.5.0.tar.gz (316.9 MB)\n",
            "\u001b[2K     \u001b[90m━━━━━━━━━━━━━━━━━━━━━━━━━━━━━━━━━━━━━━━━\u001b[0m \u001b[32m316.9/316.9 MB\u001b[0m \u001b[31m1.9 MB/s\u001b[0m eta \u001b[36m0:00:00\u001b[0m\n",
            "\u001b[?25h  Preparing metadata (setup.py) ... \u001b[?25l\u001b[?25hdone\n",
            "Requirement already satisfied: py4j==0.10.9.7 in /usr/local/lib/python3.10/dist-packages (from pyspark) (0.10.9.7)\n",
            "Building wheels for collected packages: pyspark\n",
            "  Building wheel for pyspark (setup.py) ... \u001b[?25l\u001b[?25hdone\n",
            "  Created wheel for pyspark: filename=pyspark-3.5.0-py2.py3-none-any.whl size=317425345 sha256=ac78d549f82d1109954d24b7aef0b6ed8af918fdbdc8a97cb76927696d6ed5ed\n",
            "  Stored in directory: /root/.cache/pip/wheels/41/4e/10/c2cf2467f71c678cfc8a6b9ac9241e5e44a01940da8fbb17fc\n",
            "Successfully built pyspark\n",
            "Installing collected packages: pyspark\n",
            "Successfully installed pyspark-3.5.0\n"
          ]
        }
      ],
      "source": [
        "!pip install pyspark"
      ]
    },
    {
      "cell_type": "code",
      "source": [
        "import pyspark"
      ],
      "metadata": {
        "id": "UOO1HaOJ-bDH"
      },
      "execution_count": 2,
      "outputs": []
    },
    {
      "cell_type": "code",
      "source": [
        "import pandas as pd\n",
        "from google.colab import drive\n",
        "drive.mount('/content/drive')\n"
      ],
      "metadata": {
        "colab": {
          "base_uri": "https://localhost:8080/"
        },
        "id": "Jwl8VYMU-nD2",
        "outputId": "3d0e9a89-7fa1-487f-af3d-661bd6646f3e"
      },
      "execution_count": 7,
      "outputs": [
        {
          "output_type": "stream",
          "name": "stdout",
          "text": [
            "Drive already mounted at /content/drive; to attempt to forcibly remount, call drive.mount(\"/content/drive\", force_remount=True).\n"
          ]
        }
      ]
    },
    {
      "cell_type": "code",
      "source": [
        "df=pd.read_csv('/content/drive/MyDrive/Excel1.csv')"
      ],
      "metadata": {
        "id": "OK_7L56z-nBE"
      },
      "execution_count": 15,
      "outputs": []
    },
    {
      "cell_type": "code",
      "source": [
        "df"
      ],
      "metadata": {
        "colab": {
          "base_uri": "https://localhost:8080/",
          "height": 375
        },
        "id": "AMzroYiz-m-k",
        "outputId": "5a6d3145-a68e-4350-f5bf-332b1016af0e"
      },
      "execution_count": 16,
      "outputs": [
        {
          "output_type": "execute_result",
          "data": {
            "text/plain": [
              "   Name;Age\n",
              "0   John;23\n",
              "1  Smith;25\n",
              "2  Steve;34"
            ],
            "text/html": [
              "\n",
              "  <div id=\"df-85abf3ab-635c-4153-83de-4284fbd28a3b\" class=\"colab-df-container\">\n",
              "    <div>\n",
              "<style scoped>\n",
              "    .dataframe tbody tr th:only-of-type {\n",
              "        vertical-align: middle;\n",
              "    }\n",
              "\n",
              "    .dataframe tbody tr th {\n",
              "        vertical-align: top;\n",
              "    }\n",
              "\n",
              "    .dataframe thead th {\n",
              "        text-align: right;\n",
              "    }\n",
              "</style>\n",
              "<table border=\"1\" class=\"dataframe\">\n",
              "  <thead>\n",
              "    <tr style=\"text-align: right;\">\n",
              "      <th></th>\n",
              "      <th>Name;Age</th>\n",
              "    </tr>\n",
              "  </thead>\n",
              "  <tbody>\n",
              "    <tr>\n",
              "      <th>0</th>\n",
              "      <td>John;23</td>\n",
              "    </tr>\n",
              "    <tr>\n",
              "      <th>1</th>\n",
              "      <td>Smith;25</td>\n",
              "    </tr>\n",
              "    <tr>\n",
              "      <th>2</th>\n",
              "      <td>Steve;34</td>\n",
              "    </tr>\n",
              "  </tbody>\n",
              "</table>\n",
              "</div>\n",
              "    <div class=\"colab-df-buttons\">\n",
              "\n",
              "  <div class=\"colab-df-container\">\n",
              "    <button class=\"colab-df-convert\" onclick=\"convertToInteractive('df-85abf3ab-635c-4153-83de-4284fbd28a3b')\"\n",
              "            title=\"Convert this dataframe to an interactive table.\"\n",
              "            style=\"display:none;\">\n",
              "\n",
              "  <svg xmlns=\"http://www.w3.org/2000/svg\" height=\"24px\" viewBox=\"0 -960 960 960\">\n",
              "    <path d=\"M120-120v-720h720v720H120Zm60-500h600v-160H180v160Zm220 220h160v-160H400v160Zm0 220h160v-160H400v160ZM180-400h160v-160H180v160Zm440 0h160v-160H620v160ZM180-180h160v-160H180v160Zm440 0h160v-160H620v160Z\"/>\n",
              "  </svg>\n",
              "    </button>\n",
              "\n",
              "  <style>\n",
              "    .colab-df-container {\n",
              "      display:flex;\n",
              "      gap: 12px;\n",
              "    }\n",
              "\n",
              "    .colab-df-convert {\n",
              "      background-color: #E8F0FE;\n",
              "      border: none;\n",
              "      border-radius: 50%;\n",
              "      cursor: pointer;\n",
              "      display: none;\n",
              "      fill: #1967D2;\n",
              "      height: 32px;\n",
              "      padding: 0 0 0 0;\n",
              "      width: 32px;\n",
              "    }\n",
              "\n",
              "    .colab-df-convert:hover {\n",
              "      background-color: #E2EBFA;\n",
              "      box-shadow: 0px 1px 2px rgba(60, 64, 67, 0.3), 0px 1px 3px 1px rgba(60, 64, 67, 0.15);\n",
              "      fill: #174EA6;\n",
              "    }\n",
              "\n",
              "    .colab-df-buttons div {\n",
              "      margin-bottom: 4px;\n",
              "    }\n",
              "\n",
              "    [theme=dark] .colab-df-convert {\n",
              "      background-color: #3B4455;\n",
              "      fill: #D2E3FC;\n",
              "    }\n",
              "\n",
              "    [theme=dark] .colab-df-convert:hover {\n",
              "      background-color: #434B5C;\n",
              "      box-shadow: 0px 1px 3px 1px rgba(0, 0, 0, 0.15);\n",
              "      filter: drop-shadow(0px 1px 2px rgba(0, 0, 0, 0.3));\n",
              "      fill: #FFFFFF;\n",
              "    }\n",
              "  </style>\n",
              "\n",
              "    <script>\n",
              "      const buttonEl =\n",
              "        document.querySelector('#df-85abf3ab-635c-4153-83de-4284fbd28a3b button.colab-df-convert');\n",
              "      buttonEl.style.display =\n",
              "        google.colab.kernel.accessAllowed ? 'block' : 'none';\n",
              "\n",
              "      async function convertToInteractive(key) {\n",
              "        const element = document.querySelector('#df-85abf3ab-635c-4153-83de-4284fbd28a3b');\n",
              "        const dataTable =\n",
              "          await google.colab.kernel.invokeFunction('convertToInteractive',\n",
              "                                                    [key], {});\n",
              "        if (!dataTable) return;\n",
              "\n",
              "        const docLinkHtml = 'Like what you see? Visit the ' +\n",
              "          '<a target=\"_blank\" href=https://colab.research.google.com/notebooks/data_table.ipynb>data table notebook</a>'\n",
              "          + ' to learn more about interactive tables.';\n",
              "        element.innerHTML = '';\n",
              "        dataTable['output_type'] = 'display_data';\n",
              "        await google.colab.output.renderOutput(dataTable, element);\n",
              "        const docLink = document.createElement('div');\n",
              "        docLink.innerHTML = docLinkHtml;\n",
              "        element.appendChild(docLink);\n",
              "      }\n",
              "    </script>\n",
              "  </div>\n",
              "\n",
              "\n",
              "<div id=\"df-987def73-d696-4c39-aeef-67cfe11a8f78\">\n",
              "  <button class=\"colab-df-quickchart\" onclick=\"quickchart('df-987def73-d696-4c39-aeef-67cfe11a8f78')\"\n",
              "            title=\"Suggest charts\"\n",
              "            style=\"display:none;\">\n",
              "\n",
              "<svg xmlns=\"http://www.w3.org/2000/svg\" height=\"24px\"viewBox=\"0 0 24 24\"\n",
              "     width=\"24px\">\n",
              "    <g>\n",
              "        <path d=\"M19 3H5c-1.1 0-2 .9-2 2v14c0 1.1.9 2 2 2h14c1.1 0 2-.9 2-2V5c0-1.1-.9-2-2-2zM9 17H7v-7h2v7zm4 0h-2V7h2v10zm4 0h-2v-4h2v4z\"/>\n",
              "    </g>\n",
              "</svg>\n",
              "  </button>\n",
              "\n",
              "<style>\n",
              "  .colab-df-quickchart {\n",
              "      --bg-color: #E8F0FE;\n",
              "      --fill-color: #1967D2;\n",
              "      --hover-bg-color: #E2EBFA;\n",
              "      --hover-fill-color: #174EA6;\n",
              "      --disabled-fill-color: #AAA;\n",
              "      --disabled-bg-color: #DDD;\n",
              "  }\n",
              "\n",
              "  [theme=dark] .colab-df-quickchart {\n",
              "      --bg-color: #3B4455;\n",
              "      --fill-color: #D2E3FC;\n",
              "      --hover-bg-color: #434B5C;\n",
              "      --hover-fill-color: #FFFFFF;\n",
              "      --disabled-bg-color: #3B4455;\n",
              "      --disabled-fill-color: #666;\n",
              "  }\n",
              "\n",
              "  .colab-df-quickchart {\n",
              "    background-color: var(--bg-color);\n",
              "    border: none;\n",
              "    border-radius: 50%;\n",
              "    cursor: pointer;\n",
              "    display: none;\n",
              "    fill: var(--fill-color);\n",
              "    height: 32px;\n",
              "    padding: 0;\n",
              "    width: 32px;\n",
              "  }\n",
              "\n",
              "  .colab-df-quickchart:hover {\n",
              "    background-color: var(--hover-bg-color);\n",
              "    box-shadow: 0 1px 2px rgba(60, 64, 67, 0.3), 0 1px 3px 1px rgba(60, 64, 67, 0.15);\n",
              "    fill: var(--button-hover-fill-color);\n",
              "  }\n",
              "\n",
              "  .colab-df-quickchart-complete:disabled,\n",
              "  .colab-df-quickchart-complete:disabled:hover {\n",
              "    background-color: var(--disabled-bg-color);\n",
              "    fill: var(--disabled-fill-color);\n",
              "    box-shadow: none;\n",
              "  }\n",
              "\n",
              "  .colab-df-spinner {\n",
              "    border: 2px solid var(--fill-color);\n",
              "    border-color: transparent;\n",
              "    border-bottom-color: var(--fill-color);\n",
              "    animation:\n",
              "      spin 1s steps(1) infinite;\n",
              "  }\n",
              "\n",
              "  @keyframes spin {\n",
              "    0% {\n",
              "      border-color: transparent;\n",
              "      border-bottom-color: var(--fill-color);\n",
              "      border-left-color: var(--fill-color);\n",
              "    }\n",
              "    20% {\n",
              "      border-color: transparent;\n",
              "      border-left-color: var(--fill-color);\n",
              "      border-top-color: var(--fill-color);\n",
              "    }\n",
              "    30% {\n",
              "      border-color: transparent;\n",
              "      border-left-color: var(--fill-color);\n",
              "      border-top-color: var(--fill-color);\n",
              "      border-right-color: var(--fill-color);\n",
              "    }\n",
              "    40% {\n",
              "      border-color: transparent;\n",
              "      border-right-color: var(--fill-color);\n",
              "      border-top-color: var(--fill-color);\n",
              "    }\n",
              "    60% {\n",
              "      border-color: transparent;\n",
              "      border-right-color: var(--fill-color);\n",
              "    }\n",
              "    80% {\n",
              "      border-color: transparent;\n",
              "      border-right-color: var(--fill-color);\n",
              "      border-bottom-color: var(--fill-color);\n",
              "    }\n",
              "    90% {\n",
              "      border-color: transparent;\n",
              "      border-bottom-color: var(--fill-color);\n",
              "    }\n",
              "  }\n",
              "</style>\n",
              "\n",
              "  <script>\n",
              "    async function quickchart(key) {\n",
              "      const quickchartButtonEl =\n",
              "        document.querySelector('#' + key + ' button');\n",
              "      quickchartButtonEl.disabled = true;  // To prevent multiple clicks.\n",
              "      quickchartButtonEl.classList.add('colab-df-spinner');\n",
              "      try {\n",
              "        const charts = await google.colab.kernel.invokeFunction(\n",
              "            'suggestCharts', [key], {});\n",
              "      } catch (error) {\n",
              "        console.error('Error during call to suggestCharts:', error);\n",
              "      }\n",
              "      quickchartButtonEl.classList.remove('colab-df-spinner');\n",
              "      quickchartButtonEl.classList.add('colab-df-quickchart-complete');\n",
              "    }\n",
              "    (() => {\n",
              "      let quickchartButtonEl =\n",
              "        document.querySelector('#df-987def73-d696-4c39-aeef-67cfe11a8f78 button');\n",
              "      quickchartButtonEl.style.display =\n",
              "        google.colab.kernel.accessAllowed ? 'block' : 'none';\n",
              "    })();\n",
              "  </script>\n",
              "</div>\n",
              "    </div>\n",
              "  </div>\n"
            ]
          },
          "metadata": {},
          "execution_count": 16
        },
        {
          "output_type": "display_data",
          "data": {
            "text/plain": [
              "<google.colab._quickchart_helpers.SectionTitle at 0x7c2cfb3fa470>"
            ],
            "text/html": [
              "<h4 class=\"colab-quickchart-section-title\">Categorical distributions</h4>\n",
              "<style>\n",
              "  .colab-quickchart-section-title {\n",
              "      clear: both;\n",
              "  }\n",
              "</style>"
            ]
          },
          "metadata": {}
        },
        {
          "output_type": "display_data",
          "data": {
            "text/plain": [
              "from matplotlib import pyplot as plt\n",
              "import seaborn as sns\n",
              "df.groupby('Name;Age').size().plot(kind='barh', color=sns.palettes.mpl_palette('Dark2'))\n",
              "plt.gca().spines[['top', 'right',]].set_visible(False)"
            ],
            "text/html": [
              "      <div class=\"colab-quickchart-chart-with-code\" id=\"chart-4e15d9ae-c14b-4948-94bc-21f7310fd609\">\n",
              "        <img style=\"width: 180px;\" src=\"data:image/png;base64,iVBORw0KGgoAAAANSUhEUgAAAksAAAGZCAYAAACZo3W7AAAAOXRFWHRTb2Z0d2FyZQBNYXRwbG90\n",
              "bGliIHZlcnNpb24zLjcuMSwgaHR0cHM6Ly9tYXRwbG90bGliLm9yZy/bCgiHAAAACXBIWXMAAA9h\n",
              "AAAPYQGoP6dpAAAevUlEQVR4nO3deZBV9Z3//1fTZCAakEggKgoIUVoI0Crghn6ROAnJ6BAnLkk0\n",
              "MbhnJoMTTXTciAs1ZuLEYMkkroVDtBKGuEbNzMRIKYtGQVGjcUFBkcVxlMUVafr8/vCXriGaz3Qb\n",
              "movt41F1q/rce/re9/0UxX3WuafvrauqqgoAAO+pU60HAADYkoklAIACsQQAUCCWAAAKxBIAQIFY\n",
              "AgAoEEsAAAViCQCgQCwBABSIpU3g0ksvrfUIAEA7EUubwHPPPVfrEQCAdiKWAAAKxBIAQIFYAgAo\n",
              "EEsAAAViCQCgQCwBABSIJQCAArEEAFAglgAACsQSAECBWAIAKBBLAAAFYgkAoEAsAQAUiCUAgAKx\n",
              "BABQIJYAAArEEgBAgVgCACgQSwAABWIJAKBALAEAFIglAIACsQQAUCCWAAAKxBIAQIFYAgAoEEsA\n",
              "AAV1VVVVtR7ig27EHl/M2P93fK3HAIAO5wc/OrjWIziyBABQIpYAAArEEgBAgVgCACgQSwAABWIJ\n",
              "AKBALAEAFIglAIACsQQAUCCWAAAKxBIAQIFYAgAoEEsAAAViCQCgQCwBABSIJQCAArEEAFAglgAA\n",
              "CsQSAECBWAIAKBBLAAAFYgkAoEAsAQAUiCUAgAKxBABQIJYAAArEEgBAQbvH0o033pg999wzjY2N\n",
              "aWhoyNixY9Pc3JwpU6Zk5cqV7f3wLW666aYMGzYsjY2NGTx4cM4+++xUVbXRPm+++WYGDx6cxsbG\n",
              "zTYXALBl69yed75ixYqceOKJWbBgQfr165ckefDBB1NXV5cpU6ZkzJgx2W677dpzhBYHHXRQxo8f\n",
              "n06dOuXtt9/O6NGjM2LEiBx66KEt+5xxxhnZb7/98sADD2yWmQCALV+7Hll68cUXU19fn2233bbl\n",
              "uj322CMXXnhhli9fniOPPDKNjY1ZuHBh1q9fn3/8x3/MqFGj0tjYmCOOOCKrVq3K0qVL07t377z9\n",
              "9tst9/GNb3wjl156aZLkgQceyNixYzNixIjsvvvumTlzZst+X/jCFzJ//vwkSbdu3dKp0ztP9623\n",
              "3sq6detSV1fXsu+dd96ZZcuW5aijjio+p3Xr1mXt2rUbXarm5j9/sQCALVK7xtKwYcMyevTo9OvX\n",
              "L4ceemguvvjiLFu2LJMmTcoOO+yQGTNmZOHChWlsbMzFF1+crbfeOvfff38WLlyYoUOH5pxzzslO\n",
              "O+2UxsbG3HrrrUmS1157LbfeemuOPvrorF69OieeeGKuv/76zJ8/P7/+9a9z2mmnZdmyZUmSO+64\n",
              "IyNGjGiZZ968eRk6dGh69+6dsWPHZvz48UmS1atX5/TTT89PfvKT//M5XXTRRdlmm202uqx48al2\n",
              "WD0AYEvQrrHUqVOn3HDDDZk3b17GjRuXuXPnZsiQIVm0aNG79r355ptz3XXXpbGxMY2NjfnZz36W\n",
              "xYsXJ0kmTJiQadOmJUlmzpyZsWPHpmfPnpk3b16effbZfP7zn09jY2MOOuigJMmTTz75nvPsu+++\n",
              "efTRR7N06dIsWLAgs2fPTpJ861vfyllnnZXevXv/n8/pzDPPzJo1aza6bP/JXd/X+gAAW752PWfp\n",
              "DxoaGtLQ0JCTTjop48aNazlK9L9VVZXLLrssn/3sZ99126GHHpqJEydmxYoVufbaa3P66ae3/M6Q\n",
              "IUMyb968Ns3Tq1evfOELX8jMmTNzwAEHZM6cOZkzZ06+853v5K233sorr7ySQYMGvWd0denSJV26\n",
              "dNnourpO/qgQADqqdn2VX7ZsWebOnduyvWrVqixevDgDBw5M9+7ds2bNmpbbvvjFL+ZHP/pR3njj\n",
              "jSTJG2+8kcceeyxJ0rVr1xx++OE577zz8swzz2TcuHFJ3jlStHjx4tx5550t97Nw4cKW85s+85nP\n",
              "5P7770+SPPHEE2n+/88tevXVV3P77bdn2LBhSZIlS5a0XH7+859n8ODBf/LoFADw4dKuR5aamppy\n",
              "wQUXZPHixdlqq63S1NSUY445JuPHj89LL72UE044IVtttVWuvfbanHHGGVm3bl322muvlhOvzzjj\n",
              "jAwZMiTJO2/FjRo1KmeccUbq6+uTJB//+Mdz++235zvf+U5OO+20rF+/Pn379s3NN9+cDRs25OGH\n",
              "H86OO+6YJJkxY0ZmzJiRj3zkI9mwYUMOO+ywHH/88e359AGADqCu+uMPG+ogHnjggVxxxRW5+uqr\n",
              "2/2xRuzxxYz9f8ILADa1H/zo4FqPsHnOWaqFkSNHZuTIkbUeAwD4gHNmMgBAgVgCACgQSwAABWIJ\n",
              "AKBALAEAFIglAIACsQQAUCCWAAAKxBIAQIFYAgAoEEsAAAViCQCgQCwBABSIJQCAArEEAFAglgAA\n",
              "CsQSAECBWAIAKBBLAAAFYgkAoEAsAQAUiCUAgAKxBABQIJYAAAo613qAjuCAMQPyg0sOrvUYAEA7\n",
              "cGQJAKBALAEAFIglAIACsQQAUCCWAAAKxBIAQIFYAgAoEEsAAAViCQCgQCwBABSIJQCAArEEAFAg\n",
              "lgAACsQSAECBWAIAKBBLAAAFYgkAoEAsAQAUiCUAgAKxBABQIJYAAArEEgBAgVgCACgQSwAABWIJ\n",
              "AKBALAEAFIglAIACsQQAUCCWAAAKxBIAQIFYAgAoEEsAAAViCQCgQCwBABSIJQCAArEEAFAglgAA\n",
              "CsQSAECBWAIAKBBLAAAFYgkAoEAsAQAUiCUAgAKxBABQIJYAAArEEgBAgVgCACgQSwAABWIJAKBA\n",
              "LAEAFIglAIACsQQAUCCWAAAKxBIAQIFYAgAoEEsAAAViCQCgQCwBABSIJQCAArEEAFAglgAACuqq\n",
              "qqpqPcQH3YQhdTlzpO4EgE1t12s31HoER5YAAErEEgBAgVgCACgQSwAABW2Opaampvzwhz/MN7/5\n",
              "zSTJM888k7vuumuTDwYAsCXo3NZf+Na3vpUNGzZkzpw5SZKePXvmyCOPzPz58zf5cAAAtdbmWLrv\n",
              "vvuycOHC7L777kmSHj16ZP369Zt8MACALUGb34br2rXrRtsbNmxIc3PzJhsIAGBL0uZYGjZsWK67\n",
              "7ro0Nzdn0aJFOfnkkzNmzJh2GA0AoPbaHEuXXHJJZs+enZUrV2a//fZLp06d8v3vf789ZgMAqDlf\n",
              "d7IJ+LoTAGgfW8LXnbT5BO/p06e/67oePXpkzz33TJ8+fTbJUAAAW4o2x9L111+fe+65J6NHj05d\n",
              "XV3mzJmTUaNG5amnnsqUKVNyxBFHtMecAAA10eb3jj72sY/loYceyq9//ev813/9Vx566KFsu+22\n",
              "mTdvXiZPntweMwIA1EybY+mpp55KQ0NDy/agQYOyaNGi9O/fP506OW8HAOhY2lw33bp1y/Tp01NV\n",
              "VaqqyvTp0/Oxj32sPWYDAKi5NsfStGnTMnXq1HTt2jVdu3bN1KlTc8011+T111/PxRdf3B4zAgDU\n",
              "zPv+6IBXX301yTtHmpqamtK5c5vPFe8wfHQAALSPLeGjA973K3y3bt2ydOnSnHrqqT4yAADosNoc\n",
              "S6+99lquvvrq7L333tl9993TpUuX3Hnnne0xGwBAzbU6lubOnZtjjz02O+20U/7jP/4j5557brbf\n",
              "fvtcdNFFGTp0aHvOCABQM62Opf333z8vvPBCfv/73+cXv/hF/uqv/spHBQAAHV6ra+eaa67Jm2++\n",
              "mZEjR+bss8/O008/3Z5zAQBsEVodSxMmTMjs2bNz5513pqmpKQcccEBWrlyZq666KqtWrWrPGQEA\n",
              "aqbN76MNGjQo//zP/5wXXnghP/vZz/LLX/4yO+20U3vMBgBQc+/7w5Hq6+szfvz4jB8/PitWrNiU\n",
              "MwEAbDHafGTptttu22j7lltu+ZOxdOONN2bPPfdMY2NjGhoaMnbs2DQ3N7fp8RobG1s+AHPKlClZ\n",
              "uXJly23nnXde/uEf/qFV93PWWWeloaEhw4cPz4gRI/Kf//mfG91Pr1690tjYmMbGxhx11FFtmhEA\n",
              "6LjafGTplltuycEHH9yyfeONN2b+/PnZcccdNwqQFStW5MQTT8yCBQvSr1+/JMmDDz6Yurq6Nj3e\n",
              "woULW36eMmVKxowZk+22266tY2f//ffPueeem49+9KN5+OGHc8ABB2T58uXZeuutkyRHHXVUpkyZ\n",
              "0ub7BQA6tjYfWbrqqqs22v63f/u3PPbYY7n++us3uv7FF19MfX19tt1225br9thjj9TV1aV///45\n",
              "55xzsu+++2annXbK5ZdfnmnTpmWfffZJ//798/Of/7zld+rq6rJ69epccMEFWb58eY488sg0Nja2\n",
              "RNSKFStyyCGHZPDgwRk7dmxeeeWVJMny5cvT2NjYcj+f//zn89GPfjRJMnTo0FRVlZdeeqmtTz/r\n",
              "1q3L2rVrN7psaNvBMgDgA+R9fVDSggUL8tOf/jRJsnr16qxYsSKf+MQnNtpn2LBhGT16dPr165dD\n",
              "Dz00F198cZYtW9Zy++uvv5558+Zl1qxZ+fa3v51ly5bl3nvvzcyZM/P3f//373rMSZMmZYcddsiM\n",
              "GTOycOHClhD67W9/m2uvvTaPP/54evfunSuuuCJJssMOO2x0VOp/mzZtWgYMGNByxCtJZs6cmeHD\n",
              "h2fs2LGZNWvWn3zuF110UbbZZpuNLo/8T6uWDQD4AGpzLP34xz/Osccem/POOy9J8vLLL+erX/3q\n",
              "u++4U6fccMMNmTdvXsaNG5e5c+dmyJAhWbRoUZLkyCOPTJJ86lOfSteuXXPYYYclSUaMGJFXXnkl\n",
              "q1evbtU848aNS8+ePZMk++yzT5555pni/r/5zW9y/vnnZ8aMGS1vCZ588slZsmRJHn744Vx44YU5\n",
              "8sgj89xzz73n75955plZs2bNRpdhn3jPXQGADqDN5yxdeeWVue+++7LvvvsmSQYOHFh8O6uhoSEN\n",
              "DQ056aSTMm7cuNx6661Jkq5du7bsU19f37JdV1eXurq6NDU1tWqeP76f0u/dfffdmTBhQn75y19m\n",
              "0KBBLdf/73Og9ttvv+y+++6ZP3/+Rkee/qBLly7p0qXLRtfV+yBzAOiw2vwy36VLl5Zzf/6gc+d3\n",
              "N9eyZcsyd+7clu1Vq1Zl8eLFGThw4PsY8x3du3fPmjVrWrXvsmXL0tDQ0LJ9zz335Gtf+1puueWW\n",
              "DB8+fKN9X3jhhZafn3766SxcuND33QEASd7HkaVevXrlqaeeankL69prr03fvn3ftV9TU1MuuOCC\n",
              "LF68OFtttVWamppyzDHHZPz48TnllFPe17ATJ07MCSeckK222irXXnttcd9ly5ZtFHHHHXdc1q1b\n",
              "lwkTJrRc99Of/jRDhw7N2WefnQULFqRz586pr6/Pv/7rv2bXXXd9XzMCAB1LXVVVVVt+YdGiRfnK\n",
              "V76Sxx57LD179kz37t1z2223Zeedd26vGd+Xiy++ONtvv32OPvrodn+sCUPqcuZI78UBwKa267Ub\n",
              "aj1C22MpSZqbm/Pkk0+mqqoMGjQo9fX17THbB4ZYAoD2sSXE0vv6upPXXnst69evT1NTUx5++OEk\n",
              "73yGEgBAR9PmWPrRj36USZMmpVevXi1HlOrq6vLUU09t8uEAAGqtzbF02WWX5cknn8wOO+zQHvMA\n",
              "AGxR2nyiTZ8+fYQSAPCh0eYjS2eddVYmTpyYgw8+eKMPhDzggAM26WAAAFuCNsfSvffem+nTp2fO\n",
              "nDkbnbN0//33b/LhAABqrc2xNH369CxZsiQ9evRoh3EAALYsbT5nqV+/fkIJAPjQaPORpZEjR+aI\n",
              "I47IYYcdttE5S3/913+9SQcDANgStDmWFixYkCT5yU9+0nJdXV2dWAIAOqQ2x9KsWbPaYw4AgC3S\n",
              "+/q6k/Xr12fx4sV56623Wq4bNmzYJhsKAGBL0eZYuu2223LCCSdk1apV2XrrrbNq1ar069cvixcv\n",
              "bo/5AABqqs1/DXfuuefmvvvuy2677ZaXX34506dPz2GHHdYeswEA1FybY6lTp07p169fmpqakiRH\n",
              "H3107rrrrk0+GADAlqDNb8N95CMfSZLsuOOOuemmm9K/f/+sWrVqkw8GALAlaHMsnXLKKVm1alUm\n",
              "T56cL3/5y1m9enUuvfTS9pgNAKDmWh1L99xzT5KkT58+efTRR5MkV199dZJ3PmcJAKAjanUsnXba\n",
              "ae+6rq6uLsuXL8+KFSuyYcOGTToYAMCWoNWx9MADD2y0/corr2Ty5Mm57rrrcv7552/ywQAAtgRt\n",
              "/mu4t956KxdddFEGDx6cJPn973+fc845Z5MPBgCwJWh1LDU3N+fKK6/MLrvskieeeCK//e1vc8kl\n",
              "l6Rnz57tOR8AQE21+m24T3/601m3bl3+6Z/+KcOHD8+aNWvyyCOPtNzu604AgI6o1bH0xhtvpK6u\n",
              "LpMmTXrXbXV1dXn22Wc36WAAAFuCVsfSkiVL2nGMD7aPf+7b2fWSS2o9BgDQDtp8gjcAwIeJWAIA\n",
              "KBBLAAAFYgkAoEAsAQAUiCUAgAKxBABQIJYAAArEEgBAgVgCACgQSwAABWIJAKBALAEAFIglAIAC\n",
              "sQQAUCCWAAAKxBIAQIFYAgAoEEsAAAViCQCgQCwBABSIJQCAArEEAFAglgAACsQSAECBWAIAKBBL\n",
              "AAAFYgkAoEAsAQAUiCUAgAKxBABQIJYAAArEEgBAgVgCACgQSwAABWIJAKBALAEAFIglAIACsQQA\n",
              "UCCWAAAKxBIAQIFYAgAoEEsAAAViCQCgQCwBABSIJQCAArEEAFAglgAACsQSAECBWAIAKBBLAAAF\n",
              "YgkAoEAsAQAUiCUAgAKxBABQIJYAAArEEgBAgVgCACgQSwAABWIJAKBALAEAFNRVVVXVeogPuo99\n",
              "bmR6fPkztR4DADqcFyZ8v9YjOLIEAFAilgAACsQSAECBWAIAKBBLAAAFYgkAoEAsAQAUiCUAgAKx\n",
              "BABQIJYAAArEEgBAgVgCACgQSwAABWIJAKBALAEAFIglAIACsQQAUCCWAAAKxBIAQIFYAgAoEEsA\n",
              "AAViCQCgQCwBABSIJQCAArEEAFAglgAACmoaS/3798/ChQuL+9TV1WX16tV/1uMsX748n/vc5zJo\n",
              "0KAMGzYsX/rSl/LSSy+13P7Zz342w4YNS2NjY/bff/889NBDf9bjAQAdx4fiyFJ9fX3OPffcPPnk\n",
              "k3nkkUcyYMCAfPe73225/d///d/zyCOPZOHChTn11FPzjW98o3bDAgBblC0ilhYtWpSDDjqo5ejO\n",
              "zTffvNHtP/7xjzNq1KjsvPPOmTZtWsv1/fv3z6RJk7LPPvtk5513zuTJk1tuu/zyyzNp0qQkySc/\n",
              "+cmMHj265ba99torS5Ysadnu0aNHy89r1qxJXV3dpn2CAMAHVudaD5AkRx11VI499ticdNJJefrp\n",
              "p7P33ntn9913T79+/ZIkXbp0yf33358nnngiI0eOzNe+9rV07vzO6KtXr869996b//mf/8nAgQMz\n",
              "YcKE9OnTJyeffPJ7PtaGDRsyderUjB8/fqPrv/71r2fWrFlJkjvuuONPzrpu3bqsW7fuj+60er9P\n",
              "HQDYwtX8yNKrr76aBx98MMcdd1ySZJdddsno0aMze/bsln2OOuqoJElDQ0M6d+6clStXttz21a9+\n",
              "NUnyiU98IgMGDMjixYv/5GNVVZW//du/zcc//vGccsopG902ffr0LF26NJMnT84ZZ5zxJ+/joosu\n",
              "yjbbbLPR5e3FK9r+xAGAD4Sax9J7+eO3wbp27dryc319fZqamlp12x+bOHFili5dmhkzZqRTp/d+\n",
              "6sccc0xmzZqVl19++T1vP/PMM7NmzZqNLn+x8/atel4AwAdPzWOpW7du2WOPPVrORVq0aFHmzJmT\n",
              "Aw444M+636lTp+bMM89s2Z44cWIWLVqUm266KX/xF3/Rcv3q1auzfPnylu2bb745PXv2zLbbbvue\n",
              "99ulS5d07959o0vqneMEAB1VTc9ZampqSteuXXP99dfn5JNPztSpU1NXV5err746ffv2/bPu+/HH\n",
              "H8+AAQOSJHPnzs1ll12WhoaG7LXXXkmSnXfeOTfddFPWrFmTww8/PG+++WY6deqUXr165bbbbnOS\n",
              "NwCQJKmrqqomZyevWLEigwYNysqVK7PVVltt8vsfPXp0fvWrX6Vbt26b/L7/2Mc+NzI9vvyZdn8c\n",
              "APiweWHC92s9Qm3ehrvkkksyZsyY/Mu//Eu7hFKSzJkzZ7OEEgDQsdXsyFJH4sgSALSPD+2RJQCA\n",
              "DwqxBABQIJYAAArEEgBAgVgCACgQSwAABWIJAKBALAEAFIglAIACsQQAUCCWAAAKxBIAQIFYAgAo\n",
              "EEsAAAViCQCgQCwBABSIJQCAArEEAFAglgAACsQSAECBWAIAKBBLAAAFYgkAoKBzrQfoCE4csn8u\n",
              "mfD9Wo8BALQDR5YAAArEEgBAgVgCACgQSwAABWIJAKBALAEAFIglAIACsQQAUCCWAAAKxBIAQIFY\n",
              "AgAoEEsAAAViCQCgQCwBABSIJQCAArEEAFAglgAACsQSAECBWAIAKBBLAAAFYgkAoEAsAQAUiCUA\n",
              "gAKxBABQIJYAAArEEgBAgVgCACgQSwAABWIJAKBALAEAFHSu9QAfdOvWrcuvfvWrbNiwIfX19bUe\n",
              "50Nlw4YNuf/++zNq1ChrvxlZ99qx9rVh3Wunvde+X79+OeWUU/7P/eqqqqo2+aN/iKxduzbbbLNN\n",
              "1qxZk+7du9d6nA8Va18b1r12rH1tWPfa2VLW3ttwAAAFYgkAoEAsAQAUiKU/U5cuXfK9730vXbp0\n",
              "qfUoHzrWvjase+1Y+9qw7rWzpay9E7wBAAocWQIAKBBLAAAFYgkAoEAstdLTTz+dfffdN7vuumtG\n",
              "jhyZxx577D33u+aaa7LLLrtk4MCBOeGEE7J+/frNPGnH05q1v+uuuzJq1KgMHjw4Q4YMyemnn57m\n",
              "5uYaTNtxtPbffJJUVZWxY8emR48em2/ADqy1a//oo49mzJgx2W233bLbbrvlxhtv3MyTdiytWffm\n",
              "5uaceuqpGTx4cIYNG5YDDzwwixYtqsG0HcfEiRPTv3//1NXVZeHChX9yv5q+vla0yoEHHlhNmzat\n",
              "qqqqmjlzZjVixIh37fPss89W22+/fbVixYqqubm5OuSQQ6qpU6du5kk7ntas/YMPPlg988wzVVVV\n",
              "1Ztvvlntt99+Lb/D+9Oadf+DH/7wh9Xxxx9fbbPNNptnuA6uNWv/+uuvVzvvvHM1e/bsqqqqqqmp\n",
              "qfrv//7vzTlmh9Oadb/pppuqUaNGVW+//XZVVVV14YUXVocffvjmHLPDufvuu6ulS5dW/fr1qx56\n",
              "6KH33KfWr69iqRVefPHFqlu3btX69eurqqqq5ubm6pOf/GT19NNPb7TfD37wg+qkk05q2b799tur\n",
              "/fbbb7PO2tG0du3/2N/93d9V3/ve9zbDhB1TW9b9d7/7XbX//vtXixYtEkubQGvX/qqrrqq+8pWv\n",
              "1GLEDqm1637zzTdXw4cPr9auXVs1NzdX3/3ud6tvf/vbtRi5wynFUq1fX70N1wpLly7N9ttvn86d\n",
              "3/ne4bq6uvTt2zfPP//8Rvs9//zz6devX8t2//7937UPbdPatf/fVq5cmV/84hc5+OCDN9eYHU5r\n",
              "1339+vU54YQTcsUVV/iC0U2ktWv/+OOPp0uXLjn44IPT2NiYr3/963nppZdqMXKH0Np1P+SQQzJm\n",
              "zJhst9122X777fOb3/wmF1xwQS1G/lCp9eurWKJDWbt2bQ455JCcfvrpGTFiRK3H6fDOP//8/M3f\n",
              "/E122223Wo/yodPU1JQ777wzV1xxRR566KH06dMn3/zmN2s9Voc3f/78/O53v8uyZcuyfPnyfOYz\n",
              "n8nJJ59c67FoZ2KpFXbaaaesWLEiTU1NSd45mfX5559P3759N9qvb9++ee6551q2lyxZ8q59aJvW\n",
              "rn2SvPrqqxk3blzGjx+fU089dXOP2qG0dt3vvvvuXHbZZenfv39Gjx6dtWvXpn///o5w/Bna8v/N\n",
              "gQcemD59+qSuri5HH3107rvvvlqM3CG0dt2nT5/e8scMnTp1yjHHHJNZs2bVYuQPlVq/voqlVujd\n",
              "u3f22GOPXHfddUmSG264ITvuuGM+9alPbbTfl770pdx6661ZuXJlqqrK5Zdfni9/+cu1GLnDaO3a\n",
              "v/baaxk3blzGjRuXc845pxajdiitXffZs2fnueeey5IlSzJnzpx07949S5YsSa9evWoxdofQ2rU/\n",
              "4ogj8sADD2Tt2rVJkjvuuCPDhw/f7PN2FK1d9wEDBuSuu+7K22+/nSS57bbb8ulPf3qzz/thU/PX\n",
              "1812dtQH3BNPPFHtvffe1S677FLtueee1SOPPFJVVVUdd9xx1S233NKy35VXXlkNGDCgGjBgQHXs\n",
              "sce2/MUE719r1n7y5MlV586dq+HDh7dcJk+eXMuxP/Ba+2/+DxYvXuwE702ktWs/ffr0asiQIdXQ\n",
              "oUOrcePGVc8//3ytRu4QWrPub731VnX88cdXDQ0N1dChQ6u//Mu/bPlLXN6fE088serTp09VX19f\n",
              "9e7duxo4cGBVVVvW66vvhgMAKPA2HABAgVgCACgQSwAABWIJAKBALAEAFIglAIACsQQAUCCWAAAK\n",
              "xBIAQIFYAgAoEEsAAAX/H5qqD4TzOE17AAAAAElFTkSuQmCC\n",
              "\">\n",
              "      </div>\n",
              "      <script type=\"text/javascript\">\n",
              "        (() => {\n",
              "          const chartElement = document.getElementById(\"chart-4e15d9ae-c14b-4948-94bc-21f7310fd609\");\n",
              "          async function getCodeForChartHandler(event) {\n",
              "            const chartCodeResponse =  await google.colab.kernel.invokeFunction(\n",
              "                'getCodeForChart', [\"chart-4e15d9ae-c14b-4948-94bc-21f7310fd609\"], {});\n",
              "            const responseJson = chartCodeResponse.data['application/json'];\n",
              "            await google.colab.notebook.addCell(responseJson.code, 'code');\n",
              "          }\n",
              "          chartElement.onclick = getCodeForChartHandler;\n",
              "        })();\n",
              "      </script>\n",
              "      <style>\n",
              "        .colab-quickchart-chart-with-code  {\n",
              "            display: block;\n",
              "            float: left;\n",
              "            border: 1px solid transparent;\n",
              "        }\n",
              "\n",
              "        .colab-quickchart-chart-with-code:hover {\n",
              "            cursor: pointer;\n",
              "            border: 1px solid #aaa;\n",
              "        }\n",
              "      </style>"
            ]
          },
          "metadata": {}
        }
      ]
    },
    {
      "cell_type": "code",
      "source": [
        "data = {\n",
        "    'Name': ['John', 'Alice', 'Bob'],\n",
        "    'Age': [28, 24, 22],\n",
        "    #'City': ['New York', 'San Francisco', 'Los Angeles']\n",
        "}\n",
        "\n",
        "df1 = pd.DataFrame(data)\n",
        "\n",
        "# Display the DataFrame\n",
        "print(df1)"
      ],
      "metadata": {
        "colab": {
          "base_uri": "https://localhost:8080/"
        },
        "id": "eIBZRrBq-m8I",
        "outputId": "dd6cec16-a91b-4ef2-c670-f6755f6285db"
      },
      "execution_count": 17,
      "outputs": [
        {
          "output_type": "stream",
          "name": "stdout",
          "text": [
            "    Name  Age\n",
            "0   John   28\n",
            "1  Alice   24\n",
            "2    Bob   22\n"
          ]
        }
      ]
    },
    {
      "cell_type": "code",
      "source": [
        "from pyspark.sql import SparkSession"
      ],
      "metadata": {
        "id": "Qbid9Fxx-m5h"
      },
      "execution_count": 18,
      "outputs": []
    },
    {
      "cell_type": "code",
      "source": [
        "spark = SparkSession.builder.appName('Practise').getOrCreate()"
      ],
      "metadata": {
        "id": "IWD2noTi-m2r"
      },
      "execution_count": 19,
      "outputs": []
    },
    {
      "cell_type": "code",
      "source": [
        "spark"
      ],
      "metadata": {
        "colab": {
          "base_uri": "https://localhost:8080/",
          "height": 221
        },
        "id": "VoiBOKyL-m0M",
        "outputId": "83053dda-80f7-422e-9136-a2d354e6ca22"
      },
      "execution_count": 20,
      "outputs": [
        {
          "output_type": "execute_result",
          "data": {
            "text/plain": [
              "<pyspark.sql.session.SparkSession at 0x7c2cf31641f0>"
            ],
            "text/html": [
              "\n",
              "            <div>\n",
              "                <p><b>SparkSession - in-memory</b></p>\n",
              "                \n",
              "        <div>\n",
              "            <p><b>SparkContext</b></p>\n",
              "\n",
              "            <p><a href=\"http://9ef7e082769d:4040\">Spark UI</a></p>\n",
              "\n",
              "            <dl>\n",
              "              <dt>Version</dt>\n",
              "                <dd><code>v3.5.0</code></dd>\n",
              "              <dt>Master</dt>\n",
              "                <dd><code>local[*]</code></dd>\n",
              "              <dt>AppName</dt>\n",
              "                <dd><code>Practise</code></dd>\n",
              "            </dl>\n",
              "        </div>\n",
              "        \n",
              "            </div>\n",
              "        "
            ]
          },
          "metadata": {},
          "execution_count": 20
        }
      ]
    },
    {
      "cell_type": "code",
      "source": [
        "df_pyspark = spark.read.csv('/content/drive/MyDrive/Book2.csv',sep=';')\n",
        "df_pyspark"
      ],
      "metadata": {
        "colab": {
          "base_uri": "https://localhost:8080/"
        },
        "id": "1-EJXs2M-mx8",
        "outputId": "6251c8ed-908a-45be-c3ad-10c58f2bb4b1"
      },
      "execution_count": 30,
      "outputs": [
        {
          "output_type": "execute_result",
          "data": {
            "text/plain": [
              "DataFrame[_c0: string, _c1: string]"
            ]
          },
          "metadata": {},
          "execution_count": 30
        }
      ]
    },
    {
      "cell_type": "code",
      "source": [
        "df_pyspark.show()"
      ],
      "metadata": {
        "colab": {
          "base_uri": "https://localhost:8080/"
        },
        "id": "dGzdUGM3-mvn",
        "outputId": "279f43e7-a71d-4f8e-d08f-5e18fe2d9eec"
      },
      "execution_count": 31,
      "outputs": [
        {
          "output_type": "stream",
          "name": "stdout",
          "text": [
            "+-----+---+\n",
            "|  _c0|_c1|\n",
            "+-----+---+\n",
            "| Name|Age|\n",
            "|Steve| 23|\n",
            "| John| 33|\n",
            "| Mark| 54|\n",
            "+-----+---+\n",
            "\n"
          ]
        }
      ]
    },
    {
      "cell_type": "code",
      "source": [
        "df_pyspark = spark.read.option('header','true').csv('/content/drive/MyDrive/Book2.csv',sep=';')\n",
        "df_pyspark\n"
      ],
      "metadata": {
        "colab": {
          "base_uri": "https://localhost:8080/"
        },
        "id": "VCjIXfFR-ms_",
        "outputId": "fb5fe5bb-5afb-4800-c704-f821595af9d1"
      },
      "execution_count": 34,
      "outputs": [
        {
          "output_type": "execute_result",
          "data": {
            "text/plain": [
              "DataFrame[Name: string, Age: string]"
            ]
          },
          "metadata": {},
          "execution_count": 34
        }
      ]
    },
    {
      "cell_type": "code",
      "source": [
        "df_pyspark.show()"
      ],
      "metadata": {
        "colab": {
          "base_uri": "https://localhost:8080/"
        },
        "id": "OX5AzNE_-mqj",
        "outputId": "50887a15-9be4-4947-bb09-114c79ed6621"
      },
      "execution_count": 35,
      "outputs": [
        {
          "output_type": "stream",
          "name": "stdout",
          "text": [
            "+-----+---+\n",
            "| Name|Age|\n",
            "+-----+---+\n",
            "|Steve| 23|\n",
            "| John| 33|\n",
            "| Mark| 54|\n",
            "+-----+---+\n",
            "\n"
          ]
        }
      ]
    },
    {
      "cell_type": "code",
      "source": [
        "type(df_pyspark)"
      ],
      "metadata": {
        "colab": {
          "base_uri": "https://localhost:8080/"
        },
        "id": "TOCuZih4-moL",
        "outputId": "d89744be-1d8a-40fa-ed9f-9a282294e950"
      },
      "execution_count": 36,
      "outputs": [
        {
          "output_type": "execute_result",
          "data": {
            "text/plain": [
              "pyspark.sql.dataframe.DataFrame"
            ]
          },
          "metadata": {},
          "execution_count": 36
        }
      ]
    },
    {
      "cell_type": "code",
      "source": [
        "df_pyspark.head(5)"
      ],
      "metadata": {
        "colab": {
          "base_uri": "https://localhost:8080/"
        },
        "id": "VXN93eXp-mlu",
        "outputId": "53a38eda-388f-4801-a743-b9e1a3c868da"
      },
      "execution_count": 40,
      "outputs": [
        {
          "output_type": "execute_result",
          "data": {
            "text/plain": [
              "[Row(Name='Steve', Age='23'),\n",
              " Row(Name='John', Age='33'),\n",
              " Row(Name='Mark', Age='54')]"
            ]
          },
          "metadata": {},
          "execution_count": 40
        }
      ]
    },
    {
      "cell_type": "code",
      "source": [
        "df_pyspark.printSchema()"
      ],
      "metadata": {
        "colab": {
          "base_uri": "https://localhost:8080/"
        },
        "id": "sFjwemaVPb0l",
        "outputId": "985fd404-738c-4030-eaea-d725e5ca23bd"
      },
      "execution_count": 41,
      "outputs": [
        {
          "output_type": "stream",
          "name": "stdout",
          "text": [
            "root\n",
            " |-- Name: string (nullable = true)\n",
            " |-- Age: string (nullable = true)\n",
            "\n"
          ]
        }
      ]
    },
    {
      "cell_type": "code",
      "source": [],
      "metadata": {
        "id": "IVtan1DcP5TF"
      },
      "execution_count": null,
      "outputs": []
    }
  ]
}