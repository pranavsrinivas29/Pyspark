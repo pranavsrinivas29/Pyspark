{
  "nbformat": 4,
  "nbformat_minor": 0,
  "metadata": {
    "colab": {
      "provenance": [],
      "authorship_tag": "ABX9TyNG1GY6YtV2L5cd/PxUugAC",
      "include_colab_link": true
    },
    "kernelspec": {
      "name": "python3",
      "display_name": "Python 3"
    },
    "language_info": {
      "name": "python"
    }
  },
  "cells": [
    {
      "cell_type": "markdown",
      "metadata": {
        "id": "view-in-github",
        "colab_type": "text"
      },
      "source": [
        "<a href=\"https://colab.research.google.com/github/pranavsrinivas29/Pyspark/blob/main/PySpark2.ipynb\" target=\"_parent\"><img src=\"https://colab.research.google.com/assets/colab-badge.svg\" alt=\"Open In Colab\"/></a>"
      ]
    },
    {
      "cell_type": "markdown",
      "source": [
        "## Pre-Processing of Pyspark DF"
      ],
      "metadata": {
        "id": "vWNBR8PQRK18"
      }
    },
    {
      "cell_type": "code",
      "source": [
        "!pip install pyspark"
      ],
      "metadata": {
        "colab": {
          "base_uri": "https://localhost:8080/"
        },
        "id": "LBiTurxzSfWR",
        "outputId": "3d9c8f30-25f5-447f-a34a-9c64e34174e6"
      },
      "execution_count": 3,
      "outputs": [
        {
          "output_type": "stream",
          "name": "stdout",
          "text": [
            "Collecting pyspark\n",
            "  Downloading pyspark-3.5.0.tar.gz (316.9 MB)\n",
            "\u001b[2K     \u001b[90m━━━━━━━━━━━━━━━━━━━━━━━━━━━━━━━━━━━━━━━━\u001b[0m \u001b[32m316.9/316.9 MB\u001b[0m \u001b[31m1.9 MB/s\u001b[0m eta \u001b[36m0:00:00\u001b[0m\n",
            "\u001b[?25h  Preparing metadata (setup.py) ... \u001b[?25l\u001b[?25hdone\n",
            "Requirement already satisfied: py4j==0.10.9.7 in /usr/local/lib/python3.10/dist-packages (from pyspark) (0.10.9.7)\n",
            "Building wheels for collected packages: pyspark\n",
            "  Building wheel for pyspark (setup.py) ... \u001b[?25l\u001b[?25hdone\n",
            "  Created wheel for pyspark: filename=pyspark-3.5.0-py2.py3-none-any.whl size=317425345 sha256=7177a5134c310c6d7b09667b1fd64ca2c6f3c98d7bb0a87ce882f2ad7f4cb195\n",
            "  Stored in directory: /root/.cache/pip/wheels/41/4e/10/c2cf2467f71c678cfc8a6b9ac9241e5e44a01940da8fbb17fc\n",
            "Successfully built pyspark\n",
            "Installing collected packages: pyspark\n",
            "Successfully installed pyspark-3.5.0\n"
          ]
        }
      ]
    },
    {
      "cell_type": "code",
      "execution_count": 5,
      "metadata": {
        "colab": {
          "base_uri": "https://localhost:8080/"
        },
        "id": "jvVLd76fRA0q",
        "outputId": "2e6bdcf8-1b66-4ac6-af0a-be51984c67f8"
      },
      "outputs": [
        {
          "output_type": "stream",
          "name": "stdout",
          "text": [
            "Mounted at /content/drive\n",
            "+-----+---+\n",
            "| Name|Age|\n",
            "+-----+---+\n",
            "|Steve| 23|\n",
            "| John| 33|\n",
            "| Mark| 54|\n",
            "+-----+---+\n",
            "\n"
          ]
        }
      ],
      "source": [
        "import pyspark\n",
        "\n",
        "from google.colab import drive\n",
        "drive.mount('/content/drive')\n",
        "\n",
        "\n",
        "from pyspark.sql import SparkSession\n",
        "spark = SparkSession.builder.appName('DataFrame').getOrCreate()\n",
        "df_pyspark = spark.read.csv('/content/drive/MyDrive/Book2.csv',sep=';')\n",
        "df_pyspark = spark.read.option('header','true').csv('/content/drive/MyDrive/Book2.csv',sep=';')\n",
        "\n",
        "df_pyspark.show()"
      ]
    },
    {
      "cell_type": "code",
      "source": [
        "df_pyspark"
      ],
      "metadata": {
        "colab": {
          "base_uri": "https://localhost:8080/"
        },
        "id": "22gDA__oW7f4",
        "outputId": "c00e7356-d3f1-4ce0-c792-702c20b2ab90"
      },
      "execution_count": 6,
      "outputs": [
        {
          "output_type": "execute_result",
          "data": {
            "text/plain": [
              "DataFrame[Name: string, Age: string]"
            ]
          },
          "metadata": {},
          "execution_count": 6
        }
      ]
    },
    {
      "cell_type": "markdown",
      "source": [
        "using inferschema makes df to consider right datatypes for cols"
      ],
      "metadata": {
        "id": "e_ysKwGXXJV1"
      }
    },
    {
      "cell_type": "code",
      "source": [
        "df_pyspark = spark.read.option('header','true').csv('/content/drive/MyDrive/Book2.csv',sep=';',inferSchema=True)\n",
        "df_pyspark"
      ],
      "metadata": {
        "colab": {
          "base_uri": "https://localhost:8080/"
        },
        "id": "kNUj5nf5W9Cd",
        "outputId": "ee623b08-01ae-4250-ee4c-528404515d95"
      },
      "execution_count": 7,
      "outputs": [
        {
          "output_type": "execute_result",
          "data": {
            "text/plain": [
              "DataFrame[Name: string, Age: int]"
            ]
          },
          "metadata": {},
          "execution_count": 7
        }
      ]
    },
    {
      "cell_type": "code",
      "source": [
        "#using header and inferschema simulatenously\n",
        "df_pyspark = spark.read.csv('/content/drive/MyDrive/Book2.csv',sep=';',header=True,inferSchema=True)\n",
        "print(df_pyspark)\n",
        "df_pyspark.show()"
      ],
      "metadata": {
        "colab": {
          "base_uri": "https://localhost:8080/"
        },
        "id": "Kkan7WSVXizx",
        "outputId": "48dd09b3-20dc-496c-8843-fcc132a1bffb"
      },
      "execution_count": 10,
      "outputs": [
        {
          "output_type": "stream",
          "name": "stdout",
          "text": [
            "DataFrame[Name: string, Age: int]\n",
            "+-----+---+\n",
            "| Name|Age|\n",
            "+-----+---+\n",
            "|Steve| 23|\n",
            "| John| 33|\n",
            "| Mark| 54|\n",
            "+-----+---+\n",
            "\n"
          ]
        }
      ]
    },
    {
      "cell_type": "code",
      "source": [
        "df_pyspark.columns"
      ],
      "metadata": {
        "colab": {
          "base_uri": "https://localhost:8080/"
        },
        "id": "q9hVWbt3X4pt",
        "outputId": "5f8a4cd2-329a-4508-8758-deb0f9664255"
      },
      "execution_count": 11,
      "outputs": [
        {
          "output_type": "execute_result",
          "data": {
            "text/plain": [
              "['Name', 'Age']"
            ]
          },
          "metadata": {},
          "execution_count": 11
        }
      ]
    },
    {
      "cell_type": "markdown",
      "source": [
        "### Selecting cols and indexing"
      ],
      "metadata": {
        "id": "qKnmPBgoZqCF"
      }
    },
    {
      "cell_type": "code",
      "source": [
        "df_pyspark.select('Age')"
      ],
      "metadata": {
        "colab": {
          "base_uri": "https://localhost:8080/"
        },
        "id": "M0tuW-tRY1n2",
        "outputId": "ecc1cb3c-1517-4a59-feec-2ae0f82a3b8e"
      },
      "execution_count": 12,
      "outputs": [
        {
          "output_type": "execute_result",
          "data": {
            "text/plain": [
              "DataFrame[Age: int]"
            ]
          },
          "metadata": {},
          "execution_count": 12
        }
      ]
    },
    {
      "cell_type": "code",
      "source": [
        "df_pyspark.select('Age').show()"
      ],
      "metadata": {
        "colab": {
          "base_uri": "https://localhost:8080/"
        },
        "id": "adeTm7rSZmCe",
        "outputId": "9d7fcee9-7df3-4d83-a37a-c8e486aae779"
      },
      "execution_count": 13,
      "outputs": [
        {
          "output_type": "stream",
          "name": "stdout",
          "text": [
            "+---+\n",
            "|Age|\n",
            "+---+\n",
            "| 23|\n",
            "| 33|\n",
            "| 54|\n",
            "+---+\n",
            "\n"
          ]
        }
      ]
    },
    {
      "cell_type": "code",
      "source": [
        "df_pyspark.select(['Age','Name']).show()"
      ],
      "metadata": {
        "colab": {
          "base_uri": "https://localhost:8080/"
        },
        "id": "4qCL5HzZaIwL",
        "outputId": "e80b90f1-e01c-4fb9-8e4f-72eb6139bb58"
      },
      "execution_count": 14,
      "outputs": [
        {
          "output_type": "stream",
          "name": "stdout",
          "text": [
            "+---+-----+\n",
            "|Age| Name|\n",
            "+---+-----+\n",
            "| 23|Steve|\n",
            "| 33| John|\n",
            "| 54| Mark|\n",
            "+---+-----+\n",
            "\n"
          ]
        }
      ]
    },
    {
      "cell_type": "code",
      "source": [
        "df_pyspark['Name']"
      ],
      "metadata": {
        "colab": {
          "base_uri": "https://localhost:8080/"
        },
        "id": "YFZRX0MqaQ1U",
        "outputId": "c22ba2d7-c383-415d-f128-e47691f9f470"
      },
      "execution_count": 15,
      "outputs": [
        {
          "output_type": "execute_result",
          "data": {
            "text/plain": [
              "Column<'Name'>"
            ]
          },
          "metadata": {},
          "execution_count": 15
        }
      ]
    },
    {
      "cell_type": "code",
      "source": [
        "df_pyspark.dtypes"
      ],
      "metadata": {
        "colab": {
          "base_uri": "https://localhost:8080/"
        },
        "id": "7Dk3rQFMaevj",
        "outputId": "07a9d1d3-790a-48d1-85c6-828804156e2d"
      },
      "execution_count": 16,
      "outputs": [
        {
          "output_type": "execute_result",
          "data": {
            "text/plain": [
              "[('Name', 'string'), ('Age', 'int')]"
            ]
          },
          "metadata": {},
          "execution_count": 16
        }
      ]
    },
    {
      "cell_type": "code",
      "source": [
        "df_pyspark.describe().show()"
      ],
      "metadata": {
        "colab": {
          "base_uri": "https://localhost:8080/"
        },
        "id": "gdP6E4xbatLp",
        "outputId": "8d9d051f-cddd-4606-d5f5-67d471ed8513"
      },
      "execution_count": 20,
      "outputs": [
        {
          "output_type": "stream",
          "name": "stdout",
          "text": [
            "+-------+-----+------------------+\n",
            "|summary| Name|               Age|\n",
            "+-------+-----+------------------+\n",
            "|  count|    3|                 3|\n",
            "|   mean| NULL|36.666666666666664|\n",
            "| stddev| NULL|15.821925715074425|\n",
            "|    min| John|                23|\n",
            "|    max|Steve|                54|\n",
            "+-------+-----+------------------+\n",
            "\n"
          ]
        }
      ]
    },
    {
      "cell_type": "markdown",
      "source": [
        "### Adding Cols"
      ],
      "metadata": {
        "id": "yB5y7zh3bMm5"
      }
    },
    {
      "cell_type": "code",
      "source": [
        "df_pyspark.withColumn('Age after 5 years',df_pyspark['Age']+5).show()"
      ],
      "metadata": {
        "colab": {
          "base_uri": "https://localhost:8080/"
        },
        "id": "tbjrFAqfbPSW",
        "outputId": "3dbd6fc2-a0fd-4d72-9054-debfcc66d39b"
      },
      "execution_count": 23,
      "outputs": [
        {
          "output_type": "stream",
          "name": "stdout",
          "text": [
            "+-----+---+-----------------+\n",
            "| Name|Age|Age after 5 years|\n",
            "+-----+---+-----------------+\n",
            "|Steve| 23|               28|\n",
            "| John| 33|               38|\n",
            "| Mark| 54|               59|\n",
            "+-----+---+-----------------+\n",
            "\n"
          ]
        }
      ]
    },
    {
      "cell_type": "code",
      "source": [
        "df_pyspark = df_pyspark.drop('Age after 5 years')\n",
        "df_pyspark.show()"
      ],
      "metadata": {
        "colab": {
          "base_uri": "https://localhost:8080/"
        },
        "id": "rv-NZ-OrdFxP",
        "outputId": "ca4e407a-25db-4f8f-819a-4b6900275490"
      },
      "execution_count": 24,
      "outputs": [
        {
          "output_type": "stream",
          "name": "stdout",
          "text": [
            "+-----+---+\n",
            "| Name|Age|\n",
            "+-----+---+\n",
            "|Steve| 23|\n",
            "| John| 33|\n",
            "| Mark| 54|\n",
            "+-----+---+\n",
            "\n"
          ]
        }
      ]
    },
    {
      "cell_type": "code",
      "source": [
        "#Rename\n",
        "df_pyspark.withColumnRenamed('Name','Name changed').show()"
      ],
      "metadata": {
        "colab": {
          "base_uri": "https://localhost:8080/"
        },
        "id": "1N7zbxRnda0A",
        "outputId": "9ab84dab-4569-4c21-ef5a-c2e9c5c0b56f"
      },
      "execution_count": 25,
      "outputs": [
        {
          "output_type": "stream",
          "name": "stdout",
          "text": [
            "+------------+---+\n",
            "|Name changed|Age|\n",
            "+------------+---+\n",
            "|       Steve| 23|\n",
            "|        John| 33|\n",
            "|        Mark| 54|\n",
            "+------------+---+\n",
            "\n"
          ]
        }
      ]
    }
  ]
}